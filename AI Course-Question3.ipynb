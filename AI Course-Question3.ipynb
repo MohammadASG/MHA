{
 "cells": [
  {
   "cell_type": "code",
   "execution_count": 1,
   "id": "2f30dcff",
   "metadata": {
    "tags": []
   },
   "outputs": [
    {
     "name": "stdout",
     "output_type": "stream",
     "text": [
      "Minimum cost from 0 to 7 is 10\n",
      "Path: [4, 5, 18, 6, 7]\n"
     ]
    }
   ],
   "source": [
    "import heapq\n",
    "\n",
    "def uniform_cost_search(start, goals, graph, cost):\n",
    "    pq = [(0, start, [])]\n",
    "    visited = set()\n",
    "\n",
    "    while pq:\n",
    "        current_cost, current_node, current_path = heapq.heappop(pq)\n",
    "\n",
    "        if current_node in visited:\n",
    "            continue\n",
    "\n",
    "        visited.add(current_node)\n",
    "        if current_node in goals:\n",
    "            return {current_node: {'cost': current_cost, 'path': current_path}}\n",
    "\n",
    "        for neighbor in graph[current_node]:\n",
    "            if neighbor not in visited:\n",
    "                new_cost = current_cost + cost[(current_node, neighbor)]\n",
    "                heapq.heappush(pq, (new_cost, neighbor, current_path + [neighbor]))\n",
    "\n",
    "    return {goal: {'cost': float('inf'), 'path': []} for goal in goals}\n",
    "\n",
    "# main\n",
    "if __name__ == '__main__':\n",
    "    graph, cost = [[] for _ in range(30)], {}\n",
    "\n",
    "    # add edges to the graph\n",
    "    graph[0].extend([4, 5, 16])\n",
    "    graph[2].append(1)\n",
    "    graph[3].append(1)\n",
    "    graph[4].extend([2, 3, 5])\n",
    "    graph[5].extend([8, 18])\n",
    "    graph[6].extend([3, 7])\n",
    "    graph[8].extend([16, 17])\n",
    "    graph[16].append(17)\n",
    "    graph[18].append(6)\n",
    "\n",
    "    cost.update({\n",
    "        (0, 4): 3, (0, 5): 9, (0, 16): 1,\n",
    "        (2, 1): 2, (3, 1): 2,\n",
    "        (4, 2): 1, (4, 3): 8, (4, 5): 2,\n",
    "        (5, 8): 3, (5, 18): 2,\n",
    "        (6, 3): 3, (6, 7): 2,\n",
    "        (8, 16): 4, (8, 17): 4,\n",
    "        (16, 17): 15,\n",
    "        (18, 6): 1\n",
    "    })\n",
    "\n",
    "    # start position\n",
    "    start = 0\n",
    "\n",
    "    # goal / goals\n",
    "    goals = [7]\n",
    "\n",
    "    min_cost_info = uniform_cost_search(start, goals, graph, cost)\n",
    "\n",
    "    for node, info in min_cost_info.items():\n",
    "        print(f'Minimum cost from {start} to {node} is {info[\"cost\"]}')\n",
    "        print(f'Path: {info[\"path\"]}')\n"
   ]
  },
  {
   "cell_type": "code",
   "execution_count": null,
   "id": "bc123baa-1eb3-4041-8f0f-8cca3fbe68e8",
   "metadata": {},
   "outputs": [],
   "source": []
  }
 ],
 "metadata": {
  "kernelspec": {
   "display_name": "Python 3 (ipykernel)",
   "language": "python",
   "name": "python3"
  },
  "language_info": {
   "codemirror_mode": {
    "name": "ipython",
    "version": 3
   },
   "file_extension": ".py",
   "mimetype": "text/x-python",
   "name": "python",
   "nbconvert_exporter": "python",
   "pygments_lexer": "ipython3",
   "version": "3.11.5"
  }
 },
 "nbformat": 4,
 "nbformat_minor": 5
}
